{
 "cells": [
  {
   "cell_type": "code",
   "execution_count": 1,
   "metadata": {},
   "outputs": [],
   "source": [
    "#librerias del proyecto\n",
    "from sqlalchemy import create_engine\n",
    "import pyodbc\n",
    "import numpy as np\n",
    "import re \n",
    "import pandas as pd \n",
    "import datetime\n",
    "from datetime import date"
   ]
  },
  {
   "cell_type": "code",
   "execution_count": 2,
   "metadata": {},
   "outputs": [],
   "source": [
    "# conecion a base de datos\n",
    "try:\n",
    "    cnxn = pyodbc.connect('DSN=CARGA_BI;UID=xxxx;PWD=*****')\n",
    "    cursor = cnxn.cursor()\n",
    "    hora = datetime.datetime.now ()\n",
    "    with open('Operacion_vt11.txt', 'a') as fobj:\n",
    "        fobj.write(str(hora)+'conexion exitosa \\n')\n",
    "except BaseException as error:\n",
    "    hora = datetime.datetime.now ()\n",
    "    with open('Operacion_vt11.txt', 'a') as fobj:\n",
    "        fobj.write(str(hora)+'conexion BBDD error: '+ str(error)+' \\n' )     \n"
   ]
  },
  {
   "cell_type": "code",
   "execution_count": 3,
   "metadata": {},
   "outputs": [],
   "source": [
    "vt11=pd.read_sql(\"\"\" select OPE_INDICADORES_PLANTA.transporte transporte,\n",
    "          OPE_INDICADORES_PLANTA.[Creado por] Creado_por,\n",
    "          OPE_INDICADORES_PLANTA.[Placa T] Placa_T,\n",
    "          OPE_INDICADORES_PLANTA.Piloto Piloto,\n",
    "          OPE_INDICADORES_PLANTA.Licencia Licencia,\n",
    "          OPE_INDICADORES_PLANTA.inPlanCarg inPlanCarg,\n",
    "          OPE_INDICADORES_PLANTA.horaplreg horaplreg,\n",
    "          OPE_INDICADORES_PLANTA.HoraAcRg HoraAcRg,\n",
    "          OPE_INDICADORES_PLANTA.HrPrIC HrPrIC,\n",
    "          OPE_INDICADORES_PLANTA.HrAiCg HrAiCg,\n",
    "          OPE_INDICADORES_PLANTA.Cump Cump0,\n",
    "          OPE_INDICADORES_PLANTA.HrPrFiCga HrPrFiCga,\n",
    "          OPE_INDICADORES_PLANTA.HrAFCg HrAFCg,\n",
    "          OPE_INDICADORES_PLANTA.Cum Cum,\n",
    "          OPE_INDICADORES_PLANTA.HoraPlDS HoraPlDS,\n",
    "          OPE_INDICADORES_PLANTA.HrADpEXP HrADpEXP,\n",
    "          OPE_INDICADORES_PLANTA.OTIF OTIF,\n",
    "          OPE_INDICADORES_PLANTA.[Plan T Car] Plan_T_Car,\n",
    "          OPE_INDICADORES_PLANTA.[Real T Car] Real_T_Car,\n",
    "          OPE_INDICADORES_PLANTA.[Peso Teori] Peso_Teori,\n",
    "          OPE_INDICADORES_PLANTA.[pESO rEAL] pESO_rEAL,\n",
    "          OPE_INDICADORES_PLANTA.eNTREGAS eNTREGAS,\n",
    "          OPE_INDICADORES_PLANTA.PTRP PTRP,\n",
    "          OPE_INDICADORES_PLANTA.PLAn_TIEMPO_CARGA PLAn_TIEMPO_CARGA,\n",
    "          OPE_INDICADORES_PLANTA.REAL_TIEMPO_CARGA REAL_TIEMPO_CARGA,\n",
    "          OPE_INDICADORES_PLANTA.PLANTA PLANTA,\n",
    "          OPE_INDICADORES_PLANTA.PAIS PAIS,\n",
    "          OPE_INDICADORES_PLANTA.Cump Cump,\n",
    "          OPE_INDICADORES_PLANTA.Cumple_tiempo_carga Cumple_tiempo_carga,\n",
    "          OPE_INDICADORES_PLANTA.Cumple_inicio_carga Cumple_inicio_carga,\n",
    "           OPE_INDICADORES_PLANTA.cumple_cliente cumple_cliente, \n",
    "    OPE_INDICADORES_PLANTA.Demora_tiempo_carga_R_C,DIF_PROM_INI_CARGA \n",
    " ,  B.OTIF OBJETIVO_OTIF,\n",
    "          B.CUMP_H_INI_CARGA  OBJETIVO_CUMP_H_INI_CARGA ,\n",
    "          B.DEMORA_PROME_H_INI_CARGA OBJETIVO_DEMORA_PROME_H_INI_CARGA,\n",
    "          B.CUMP_T_CARAGA OBJETIVO_CUMP_T_CARAGA,\n",
    "          B.DEMORA_PROME_T_CARGA OBJETIVO_DEMORA_PROME_T_CARGA,\n",
    "          B.CUMPLE_CLIENTE OBJETIVO_CUMPLE_CLIENTE\n",
    "from   dbo.OPE_INDICADORES_PLANTA OPE_INDICADORES_PLANTA   LEFT JOIN    dbo.OPE_PLANTA_PLAN B \n",
    "ON (  OPE_INDICADORES_PLANTA.PTRP=B.PTRP)\"\"\", con=cnxn, parse_dates=True )"
   ]
  },
  {
   "cell_type": "code",
   "execution_count": 4,
   "metadata": {},
   "outputs": [],
   "source": [
    "# limpieza de nulos\n",
    "vt11['Creado_por'].fillna('', inplace=True)\n",
    "vt11['Placa_T'].fillna('', inplace=True)\n",
    "vt11['Piloto'].fillna('', inplace=True)\n",
    "vt11['Licencia'].fillna('', inplace=True)\n",
    "vt11['Creado_por']=vt11['Creado_por'].astype('str')\n",
    "vt11['Placa_T']=vt11['Placa_T'].astype('str')\n",
    "vt11['Piloto']=vt11['Piloto'].astype('str')\n",
    "vt11['Licencia']=vt11['Licencia'].astype('str')"
   ]
  },
  {
   "cell_type": "code",
   "execution_count": 5,
   "metadata": {},
   "outputs": [],
   "source": [
    "# Convert account_opened to datetime\n",
    "vt11['inPlanCarg'] = pd.to_datetime(vt11['inPlanCarg'],\n",
    "                                           # Infer datetime format\n",
    "                                           infer_datetime_format = True,\n",
    "                                           # Return missing value for error\n",
    "                                           errors = 'coerce' ) "
   ]
  },
  {
   "cell_type": "code",
   "execution_count": 6,
   "metadata": {},
   "outputs": [],
   "source": [
    "#OTIF\n",
    "VT11_OTIF=vt11.groupby(['inPlanCarg','PLANTA','PAIS'])[['OTIF','OBJETIVO_OTIF']].mean()\n",
    "VT11_OTIF=VT11_OTIF.reset_index()\n",
    "VT11_OTIF['INDICADOR']='OTIF'\n",
    "VT11_OTIF['UNIDAD']='%'\n",
    "VT11_OTIF['OTIF']=VT11_OTIF['OTIF']*100\n",
    "VT11_OTIF['OBJETIVO_OTIF']=VT11_OTIF['OBJETIVO_OTIF']*100\n",
    "VT11_OTIF['STATUS']=VT11_OTIF['OTIF']/VT11_OTIF['OBJETIVO_OTIF']*100"
   ]
  },
  {
   "cell_type": "code",
   "execution_count": 7,
   "metadata": {},
   "outputs": [],
   "source": [
    "#OTIF\n",
    "# df['rainfall'].rolling(min_periods=7, window=7).sum()\n",
    "VT11_OTIF_semana=VT11_OTIF\n",
    "VT11_OTIF_semana['DIA_SEMANA']=VT11_OTIF_semana.inPlanCarg.dt.dayofweek\n",
    "VT11_OTIF_semana['DIA_MES']=VT11_OTIF_semana.inPlanCarg.dt.day\n",
    "VT11_OTIF_semana['ANIO']=VT11_OTIF_semana.inPlanCarg.dt.year\n",
    "VT11_OTIF_semana['DIA_ANIO']=VT11_OTIF_semana.inPlanCarg.dt.dayofyear\n",
    "VT11_OTIF_semana['NO_SEMANA']=VT11_OTIF_semana.inPlanCarg.dt.weekofyear\n",
    "VT11_OTIF_semana['MES']=VT11_OTIF_semana.inPlanCarg.dt.month"
   ]
  },
  {
   "cell_type": "code",
   "execution_count": 8,
   "metadata": {},
   "outputs": [],
   "source": [
    "#OTIF#semana\n",
    "for  row_index,row  in VT11_OTIF_semana.iterrows():\n",
    "    OTIF_SEMANAL=0\n",
    "    v_planta=VT11_OTIF_semana['PLANTA']== VT11_OTIF_semana.loc[row_index ,'PLANTA' ]\n",
    "    v_pais=VT11_OTIF_semana['PAIS']==VT11_OTIF_semana.loc[row_index ,'PAIS' ]\n",
    "    v_Nsemana=VT11_OTIF_semana['NO_SEMANA']==VT11_OTIF_semana.loc[row_index ,'NO_SEMANA' ]\n",
    "    v_Dia_semana=VT11_OTIF_semana['DIA_SEMANA']<=VT11_OTIF_semana.loc[row_index ,'DIA_SEMANA' ]\n",
    "    OTIF_SEMANAL=VT11_OTIF_semana[v_planta & v_pais & v_Nsemana & v_Dia_semana]['OTIF'].mean()\n",
    "    VT11_OTIF_semana.loc[row_index, 'OTIF_SEMANAL']=OTIF_SEMANAL"
   ]
  },
  {
   "cell_type": "code",
   "execution_count": 9,
   "metadata": {},
   "outputs": [],
   "source": [
    "#OTIF#Mes\n",
    "for  row_index,row  in VT11_OTIF_semana.iterrows():\n",
    "    OTIF_MENSUAL=0\n",
    "    v_planta=VT11_OTIF_semana['PLANTA']== VT11_OTIF_semana.loc[row_index ,'PLANTA' ]\n",
    "    v_pais=VT11_OTIF_semana['PAIS']==VT11_OTIF_semana.loc[row_index ,'PAIS' ]\n",
    "    v_Nsemana=VT11_OTIF_semana['MES']==VT11_OTIF_semana.loc[row_index ,'MES' ]\n",
    "    v_Dia_semana=VT11_OTIF_semana['DIA_MES']<=VT11_OTIF_semana.loc[row_index ,'DIA_MES' ]\n",
    "    OTIF_MENSUAL=VT11_OTIF_semana[v_planta & v_pais & v_Nsemana & v_Dia_semana]['OTIF'].mean()\n",
    "    VT11_OTIF_semana.loc[row_index, 'OTIF_MENSUL']=OTIF_MENSUAL"
   ]
  },
  {
   "cell_type": "code",
   "execution_count": 10,
   "metadata": {},
   "outputs": [],
   "source": [
    "#OTIF#anio\n",
    "for  row_index,row  in VT11_OTIF_semana.iterrows():\n",
    "    OTIF_ANIO=0\n",
    "    v_planta=VT11_OTIF_semana['PLANTA']== VT11_OTIF_semana.loc[row_index ,'PLANTA' ]\n",
    "    v_pais=VT11_OTIF_semana['PAIS']==VT11_OTIF_semana.loc[row_index ,'PAIS' ]\n",
    "    v_Nsemana=VT11_OTIF_semana['ANIO']==VT11_OTIF_semana.loc[row_index ,'ANIO' ]\n",
    "    v_Dia_semana=VT11_OTIF_semana['DIA_ANIO']<=VT11_OTIF_semana.loc[row_index ,'DIA_ANIO' ]\n",
    "    OTIF_ANIO=VT11_OTIF_semana[v_planta & v_pais & v_Nsemana & v_Dia_semana]['OTIF'].mean()\n",
    "    VT11_OTIF_semana.loc[row_index, 'OTIF_ANIO']=OTIF_ANIO"
   ]
  },
  {
   "cell_type": "code",
   "execution_count": 11,
   "metadata": {},
   "outputs": [],
   "source": [
    "VT11_OTIF_semana['STATUS_SEMANAL']=VT11_OTIF['OTIF_SEMANAL']/VT11_OTIF['OBJETIVO_OTIF']*100\n",
    "VT11_OTIF_semana['STATUS_MENSUAL']=VT11_OTIF['OTIF_MENSUL']/VT11_OTIF['OBJETIVO_OTIF']*100\n",
    "VT11_OTIF_semana['STATUS_ANUAL']=VT11_OTIF['OTIF_ANIO']/VT11_OTIF['OBJETIVO_OTIF']*100\n",
    "VT11_OTIF_semana.fillna(0, inplace=True)    "
   ]
  },
  {
   "cell_type": "code",
   "execution_count": 12,
   "metadata": {},
   "outputs": [],
   "source": [
    "# Convert account_opened to datetime\n",
    "vt11['HrAiCg'] = pd.to_datetime(vt11['HrAiCg'],\n",
    "                                           # Infer datetime format\n",
    "                                           infer_datetime_format = True,\n",
    "                                           # Return missing value for error\n",
    "                                           errors = 'coerce' ) \n",
    "# Convert account_opened to datetime\n",
    "vt11['HrPrFiCga'] = pd.to_datetime(vt11['HrPrFiCga'],\n",
    "                                           # Infer datetime format\n",
    "                                           infer_datetime_format = True,\n",
    "                                           # Return missing value for error\n",
    "                                           errors = 'coerce' ) \n",
    "vt11['Cump0']=vt11['Cump0'].astype('int')\n",
    "vt11[['Cump0', 'HrAiCg','HrPrFiCga']]\n",
    "vt11_DIFERENCIA_CUMPLE_CLIENTE=vt11['HrPrFiCga'] -  vt11['HrAiCg'] \n",
    "vt11[\"DIFERENCIA_CUMPLE_CLIENTE\"]=abs(vt11_DIFERENCIA_CUMPLE_CLIENTE.dt.total_seconds())\n",
    "for x,y in enumerate(vt11['DIFERENCIA_CUMPLE_CLIENTE']):\n",
    "    if vt11.iloc[x,10]==1: \n",
    "        vt11.iloc[x,39]=np.nan"
   ]
  },
  {
   "cell_type": "code",
   "execution_count": 13,
   "metadata": {},
   "outputs": [],
   "source": [
    "#Demora en el inicio de carga --OBJETIVO_DEMORA_PROME_H_INI_CARGA\n",
    "VT11_DEMORA_INICIO_CLIENTE=vt11.groupby(['inPlanCarg','PLANTA','PAIS'])[['DIFERENCIA_CUMPLE_CLIENTE','OBJETIVO_DEMORA_PROME_H_INI_CARGA']].mean()\n",
    "VT11_DEMORA_INICIO_CLIENTE=VT11_DEMORA_INICIO_CLIENTE.reset_index()\n",
    "VT11_DEMORA_INICIO_CLIENTE['INDICADOR']='Demora en el inicio de carga'\n",
    "VT11_DEMORA_INICIO_CLIENTE['UNIDAD']='Minutos'\n",
    "VT11_DEMORA_INICIO_CLIENTE['DIFERENCIA_CUMPLE_CLIENTE']=VT11_DEMORA_INICIO_CLIENTE['DIFERENCIA_CUMPLE_CLIENTE']/60"
   ]
  },
  {
   "cell_type": "code",
   "execution_count": 14,
   "metadata": {},
   "outputs": [],
   "source": [
    "# df['rainfall'].rolling(min_periods=7, window=7).sum()\n",
    "VT11_DEMORA_INICIO_CLIENTE_semana=VT11_DEMORA_INICIO_CLIENTE\n",
    "VT11_DEMORA_INICIO_CLIENTE_semana['DIA_SEMANA']=VT11_DEMORA_INICIO_CLIENTE_semana.inPlanCarg.dt.dayofweek\n",
    "VT11_DEMORA_INICIO_CLIENTE_semana['DIA_MES']=VT11_DEMORA_INICIO_CLIENTE_semana.inPlanCarg.dt.day\n",
    "VT11_DEMORA_INICIO_CLIENTE_semana['ANIO']=VT11_DEMORA_INICIO_CLIENTE_semana.inPlanCarg.dt.year\n",
    "VT11_DEMORA_INICIO_CLIENTE_semana['DIA_ANIO']=VT11_DEMORA_INICIO_CLIENTE_semana.inPlanCarg.dt.dayofyear\n",
    "VT11_DEMORA_INICIO_CLIENTE_semana['NO_SEMANA']=VT11_DEMORA_INICIO_CLIENTE_semana.inPlanCarg.dt.weekofyear\n",
    "VT11_DEMORA_INICIO_CLIENTE_semana['MES']=VT11_DEMORA_INICIO_CLIENTE_semana.inPlanCarg.dt.month"
   ]
  },
  {
   "cell_type": "code",
   "execution_count": 15,
   "metadata": {},
   "outputs": [],
   "source": [
    "for  row_index,row  in VT11_DEMORA_INICIO_CLIENTE_semana.iterrows():\n",
    "    DEMORA_INICIO_CLIENTE_SEMANAL=0\n",
    "    v_planta=VT11_DEMORA_INICIO_CLIENTE_semana['PLANTA']== VT11_DEMORA_INICIO_CLIENTE_semana.loc[row_index ,'PLANTA' ]\n",
    "    v_pais=VT11_DEMORA_INICIO_CLIENTE_semana['PAIS']==VT11_DEMORA_INICIO_CLIENTE_semana.loc[row_index ,'PAIS' ]\n",
    "    v_Nsemana=VT11_DEMORA_INICIO_CLIENTE_semana['NO_SEMANA']==VT11_DEMORA_INICIO_CLIENTE_semana.loc[row_index ,'NO_SEMANA' ]\n",
    "    v_Dia_semana=VT11_DEMORA_INICIO_CLIENTE_semana['DIA_SEMANA']<=VT11_DEMORA_INICIO_CLIENTE_semana.loc[row_index ,'DIA_SEMANA' ]\n",
    "    DEMORA_INICIO_CLIENTE_SEMANAL=VT11_DEMORA_INICIO_CLIENTE_semana[v_planta & v_pais & v_Nsemana & v_Dia_semana]['DIFERENCIA_CUMPLE_CLIENTE'].mean()\n",
    "    VT11_DEMORA_INICIO_CLIENTE_semana.loc[row_index, 'DIFERENCIA_CUMPLE_CLIENTE_SEMANAL']=DEMORA_INICIO_CLIENTE_SEMANAL"
   ]
  },
  {
   "cell_type": "code",
   "execution_count": 16,
   "metadata": {},
   "outputs": [],
   "source": [
    "for  row_index,row  in VT11_DEMORA_INICIO_CLIENTE_semana.iterrows():\n",
    "    DEMORA_INICIO_CLIENTE_SEMANAL=0\n",
    "    v_planta=VT11_DEMORA_INICIO_CLIENTE_semana['PLANTA']== VT11_DEMORA_INICIO_CLIENTE_semana.loc[row_index ,'PLANTA' ]\n",
    "    v_pais=VT11_DEMORA_INICIO_CLIENTE_semana['PAIS']==VT11_DEMORA_INICIO_CLIENTE_semana.loc[row_index ,'PAIS' ]\n",
    "    v_Nsemana=VT11_DEMORA_INICIO_CLIENTE_semana['MES']==VT11_DEMORA_INICIO_CLIENTE_semana.loc[row_index ,'MES' ]\n",
    "    v_Dia_semana=VT11_DEMORA_INICIO_CLIENTE_semana['DIA_MES']<=VT11_DEMORA_INICIO_CLIENTE_semana.loc[row_index ,'DIA_MES' ]\n",
    "    DEMORA_INICIO_CLIENTE_SEMANAL=VT11_DEMORA_INICIO_CLIENTE_semana[v_planta & v_pais & v_Nsemana & v_Dia_semana]['DIFERENCIA_CUMPLE_CLIENTE'].mean()\n",
    "    VT11_DEMORA_INICIO_CLIENTE_semana.loc[row_index, 'DIFERENCIA_CUMPLE_CLIENTE_MENSUAL']=DEMORA_INICIO_CLIENTE_SEMANAL"
   ]
  },
  {
   "cell_type": "code",
   "execution_count": 17,
   "metadata": {},
   "outputs": [],
   "source": [
    "for  row_index,row  in VT11_DEMORA_INICIO_CLIENTE_semana.iterrows():\n",
    "    DEMORA_INICIO_CLIENTE_SEMANAL=0\n",
    "    v_planta=VT11_DEMORA_INICIO_CLIENTE_semana['PLANTA']== VT11_DEMORA_INICIO_CLIENTE_semana.loc[row_index ,'PLANTA' ]\n",
    "    v_pais=VT11_DEMORA_INICIO_CLIENTE_semana['PAIS']==VT11_DEMORA_INICIO_CLIENTE_semana.loc[row_index ,'PAIS' ]\n",
    "    v_Nsemana=VT11_DEMORA_INICIO_CLIENTE_semana['ANIO']==VT11_DEMORA_INICIO_CLIENTE_semana.loc[row_index ,'ANIO' ]\n",
    "    v_Dia_semana=VT11_DEMORA_INICIO_CLIENTE_semana['DIA_ANIO']<=VT11_DEMORA_INICIO_CLIENTE_semana.loc[row_index ,'DIA_ANIO' ]\n",
    "    DEMORA_INICIO_CLIENTE_SEMANAL=VT11_DEMORA_INICIO_CLIENTE_semana[v_planta & v_pais & v_Nsemana & v_Dia_semana]['DIFERENCIA_CUMPLE_CLIENTE'].mean()\n",
    "    VT11_DEMORA_INICIO_CLIENTE_semana.loc[row_index, 'DIFERENCIA_CUMPLE_CLIENTE_ANUAL']=DEMORA_INICIO_CLIENTE_SEMANAL\n",
    "VT11_DEMORA_INICIO_CLIENTE_semana.fillna(0, inplace=True)    "
   ]
  },
  {
   "cell_type": "code",
   "execution_count": 18,
   "metadata": {},
   "outputs": [],
   "source": [
    " #Cumple_inicio_carga\n",
    "VT11_CUMPLE_INI_CARGA=vt11.groupby(['inPlanCarg','PLANTA','PAIS'])[['Cumple_inicio_carga','OBJETIVO_CUMP_H_INI_CARGA']].mean()\n",
    "VT11_CUMPLE_INI_CARGA=VT11_CUMPLE_INI_CARGA.reset_index()\n",
    "VT11_CUMPLE_INI_CARGA['INDICADOR']='Cumplimiento Inicio de Carga'\n",
    "VT11_CUMPLE_INI_CARGA['UNIDAD']='%'\n",
    "VT11_CUMPLE_INI_CARGA['Cumple_inicio_carga']=VT11_CUMPLE_INI_CARGA['Cumple_inicio_carga']*100"
   ]
  },
  {
   "cell_type": "code",
   "execution_count": 19,
   "metadata": {},
   "outputs": [],
   "source": [
    " #Cumple_inicio_carga\n",
    "# df['rainfall'].rolling(min_periods=7, window=7).sum()\n",
    "VT11_CUMPLE_INI_CARGA_semana=VT11_CUMPLE_INI_CARGA\n",
    "VT11_CUMPLE_INI_CARGA_semana['DIA_SEMANA']=VT11_CUMPLE_INI_CARGA_semana.inPlanCarg.dt.dayofweek\n",
    "VT11_CUMPLE_INI_CARGA_semana['DIA_MES']=VT11_CUMPLE_INI_CARGA_semana.inPlanCarg.dt.day\n",
    "VT11_CUMPLE_INI_CARGA_semana['ANIO']=VT11_CUMPLE_INI_CARGA_semana.inPlanCarg.dt.year\n",
    "VT11_CUMPLE_INI_CARGA_semana['DIA_ANIO']=VT11_CUMPLE_INI_CARGA_semana.inPlanCarg.dt.dayofyear\n",
    "VT11_CUMPLE_INI_CARGA_semana['NO_SEMANA']=VT11_CUMPLE_INI_CARGA_semana.inPlanCarg.dt.weekofyear\n",
    "VT11_CUMPLE_INI_CARGA_semana['MES']=VT11_CUMPLE_INI_CARGA_semana.inPlanCarg.dt.month"
   ]
  },
  {
   "cell_type": "code",
   "execution_count": 20,
   "metadata": {},
   "outputs": [],
   "source": [
    " #Cumple_inicio_carga\n",
    "for  row_index,row  in VT11_CUMPLE_INI_CARGA_semana.iterrows():\n",
    "    DEMORA_INICIO_CLIENTE_SEMANAL=0\n",
    "    v_planta=VT11_CUMPLE_INI_CARGA_semana['PLANTA']== VT11_CUMPLE_INI_CARGA_semana.loc[row_index ,'PLANTA' ]\n",
    "    v_pais=VT11_CUMPLE_INI_CARGA_semana['PAIS']==VT11_CUMPLE_INI_CARGA_semana.loc[row_index ,'PAIS' ]\n",
    "    v_Nsemana=VT11_CUMPLE_INI_CARGA_semana['NO_SEMANA']==VT11_CUMPLE_INI_CARGA_semana.loc[row_index ,'NO_SEMANA' ]\n",
    "    v_Dia_semana=VT11_CUMPLE_INI_CARGA_semana['DIA_SEMANA']<=VT11_CUMPLE_INI_CARGA_semana.loc[row_index ,'DIA_SEMANA' ]\n",
    "    DEMORA_INICIO_CLIENTE_SEMANAL=VT11_CUMPLE_INI_CARGA_semana[v_planta & v_pais & v_Nsemana & v_Dia_semana]['Cumple_inicio_carga'].mean()\n",
    "    VT11_CUMPLE_INI_CARGA_semana.loc[row_index, 'Cumplimiento Inicio de Carga_SEMANAL']=DEMORA_INICIO_CLIENTE_SEMANAL"
   ]
  },
  {
   "cell_type": "code",
   "execution_count": 21,
   "metadata": {},
   "outputs": [],
   "source": [
    " #Cumple_inicio_carga\n",
    "for  row_index,row  in VT11_CUMPLE_INI_CARGA_semana.iterrows():\n",
    "    DEMORA_INICIO_CLIENTE_SEMANAL=0\n",
    "    v_planta=VT11_CUMPLE_INI_CARGA_semana['PLANTA']== VT11_CUMPLE_INI_CARGA_semana.loc[row_index ,'PLANTA' ]\n",
    "    v_pais=VT11_CUMPLE_INI_CARGA_semana['PAIS']==VT11_CUMPLE_INI_CARGA_semana.loc[row_index ,'PAIS' ]\n",
    "    v_Nsemana=VT11_CUMPLE_INI_CARGA_semana['MES']==VT11_CUMPLE_INI_CARGA_semana.loc[row_index ,'MES' ]\n",
    "    v_Dia_semana=VT11_CUMPLE_INI_CARGA_semana['DIA_MES']<=VT11_CUMPLE_INI_CARGA_semana.loc[row_index ,'DIA_MES' ]\n",
    "    DEMORA_INICIO_CLIENTE_SEMANAL=VT11_CUMPLE_INI_CARGA_semana[v_planta & v_pais & v_Nsemana & v_Dia_semana]['Cumple_inicio_carga'].mean()\n",
    "    VT11_CUMPLE_INI_CARGA_semana.loc[row_index, 'Cumplimiento Inicio de Carga_MENSUAL']=DEMORA_INICIO_CLIENTE_SEMANAL"
   ]
  },
  {
   "cell_type": "code",
   "execution_count": 22,
   "metadata": {},
   "outputs": [],
   "source": [
    " #Cumple_inicio_carga\n",
    "for  row_index,row  in VT11_CUMPLE_INI_CARGA_semana.iterrows():\n",
    "    DEMORA_INICIO_CLIENTE_SEMANAL=0\n",
    "    v_planta=VT11_CUMPLE_INI_CARGA_semana['PLANTA']== VT11_CUMPLE_INI_CARGA_semana.loc[row_index ,'PLANTA' ]\n",
    "    v_pais=VT11_CUMPLE_INI_CARGA_semana['PAIS']==VT11_CUMPLE_INI_CARGA_semana.loc[row_index ,'PAIS' ]\n",
    "    v_Nsemana=VT11_CUMPLE_INI_CARGA_semana['ANIO']==VT11_CUMPLE_INI_CARGA_semana.loc[row_index ,'ANIO' ]\n",
    "    v_Dia_semana=VT11_CUMPLE_INI_CARGA_semana['DIA_ANIO']<=VT11_CUMPLE_INI_CARGA_semana.loc[row_index ,'DIA_ANIO' ]\n",
    "    DEMORA_INICIO_CLIENTE_SEMANAL=VT11_CUMPLE_INI_CARGA_semana[v_planta & v_pais & v_Nsemana & v_Dia_semana]['Cumple_inicio_carga'].mean()\n",
    "    VT11_CUMPLE_INI_CARGA_semana.loc[row_index, 'Cumplimiento Inicio de Carga_ANUAL']=DEMORA_INICIO_CLIENTE_SEMANAL\n",
    "VT11_DEMORA_INICIO_CLIENTE_semana.fillna(0, inplace=True)    "
   ]
  },
  {
   "cell_type": "code",
   "execution_count": 23,
   "metadata": {},
   "outputs": [],
   "source": [
    " #Cumple_inicio_carga\n",
    "VT11_CUMPLE_INI_CARGA_semana['OBJETIVO_CUMP_H_INI_CARGA']=VT11_CUMPLE_INI_CARGA_semana['OBJETIVO_CUMP_H_INI_CARGA']*100\n",
    "VT11_CUMPLE_INI_CARGA_semana['STATUS']=VT11_CUMPLE_INI_CARGA_semana['Cumple_inicio_carga']/VT11_CUMPLE_INI_CARGA_semana['OBJETIVO_CUMP_H_INI_CARGA']*100\n",
    "VT11_CUMPLE_INI_CARGA_semana['STATUS_SEMANAL']=VT11_CUMPLE_INI_CARGA_semana['Cumplimiento Inicio de Carga_SEMANAL']/VT11_CUMPLE_INI_CARGA_semana['OBJETIVO_CUMP_H_INI_CARGA']*100\n",
    "VT11_CUMPLE_INI_CARGA_semana['STATUS_MENSUAL']=VT11_CUMPLE_INI_CARGA_semana['Cumplimiento Inicio de Carga_MENSUAL']/VT11_CUMPLE_INI_CARGA_semana['OBJETIVO_CUMP_H_INI_CARGA']*100\n",
    "VT11_CUMPLE_INI_CARGA_semana['STATUS_ANUAL']=VT11_CUMPLE_INI_CARGA_semana['Cumplimiento Inicio de Carga_ANUAL']/VT11_CUMPLE_INI_CARGA_semana['OBJETIVO_CUMP_H_INI_CARGA']*100\n",
    "VT11_CUMPLE_INI_CARGA_semana.fillna(0, inplace=True)    "
   ]
  },
  {
   "cell_type": "code",
   "execution_count": 24,
   "metadata": {},
   "outputs": [],
   "source": [
    "#cumple_cliente\n",
    "VT11_CUMPLE_CLIENTE=vt11.groupby(['inPlanCarg','PLANTA','PAIS'])[['cumple_cliente','OBJETIVO_CUMPLE_CLIENTE']].mean()\n",
    "VT11_CUMPLE_CLIENTE=VT11_CUMPLE_CLIENTE.reset_index()\n",
    "VT11_CUMPLE_CLIENTE['INDICADOR']='Cumplimiento cliente'\n",
    "VT11_CUMPLE_CLIENTE['UNIDAD']='%'\n",
    "VT11_CUMPLE_CLIENTE['cumple_cliente']=VT11_CUMPLE_CLIENTE['cumple_cliente']*100"
   ]
  },
  {
   "cell_type": "code",
   "execution_count": 25,
   "metadata": {},
   "outputs": [],
   "source": [
    " #VT11_CUMPLE_CLIENTE\n",
    "# df['rainfall'].rolling(min_periods=7, window=7).sum()\n",
    "VT11_GENERICA=VT11_CUMPLE_CLIENTE\n",
    "VT11_GENERICA['DIA_SEMANA']=VT11_GENERICA.inPlanCarg.dt.dayofweek\n",
    "VT11_GENERICA['DIA_MES']=VT11_GENERICA.inPlanCarg.dt.day\n",
    "VT11_GENERICA['ANIO']=VT11_GENERICA.inPlanCarg.dt.year\n",
    "VT11_GENERICA['DIA_ANIO']=VT11_GENERICA.inPlanCarg.dt.dayofyear\n",
    "VT11_GENERICA['NO_SEMANA']=VT11_GENERICA.inPlanCarg.dt.weekofyear\n",
    "VT11_GENERICA['MES']=VT11_GENERICA.inPlanCarg.dt.month\n",
    "\n",
    "\n",
    " #VT11_CUMPLE_CLIENTE\n",
    "for  row_index,row  in VT11_GENERICA.iterrows():\n",
    "    DEMORA_INICIO_CLIENTE_SEMANAL=0\n",
    "    v_planta=VT11_GENERICA['PLANTA']== VT11_GENERICA.loc[row_index ,'PLANTA' ]\n",
    "    v_pais=VT11_GENERICA['PAIS']==VT11_GENERICA.loc[row_index ,'PAIS' ]\n",
    "    v_Nsemana=VT11_GENERICA['NO_SEMANA']==VT11_GENERICA.loc[row_index ,'NO_SEMANA' ]\n",
    "    v_Dia_semana=VT11_GENERICA['DIA_SEMANA']<=VT11_GENERICA.loc[row_index ,'DIA_SEMANA' ]\n",
    "    DEMORA_INICIO_CLIENTE_SEMANAL=VT11_GENERICA[v_planta & v_pais & v_Nsemana & v_Dia_semana]['cumple_cliente'].mean()\n",
    "    VT11_GENERICA.loc[row_index, 'cumple_cliente_SEMANAL']=DEMORA_INICIO_CLIENTE_SEMANAL\n",
    "\n",
    " #VT11_CUMPLE_CLIENTE\n",
    "for  row_index,row  in VT11_GENERICA.iterrows():\n",
    "    DEMORA_INICIO_CLIENTE_SEMANAL=0\n",
    "    v_planta=VT11_GENERICA['PLANTA']== VT11_GENERICA.loc[row_index ,'PLANTA' ]\n",
    "    v_pais=VT11_GENERICA['PAIS']==VT11_GENERICA.loc[row_index ,'PAIS' ]\n",
    "    v_Nsemana=VT11_GENERICA['MES']==VT11_GENERICA.loc[row_index ,'MES' ]\n",
    "    v_Dia_semana=VT11_GENERICA['DIA_MES']<=VT11_GENERICA.loc[row_index ,'DIA_MES' ]\n",
    "    DEMORA_INICIO_CLIENTE_SEMANAL=VT11_GENERICA[v_planta & v_pais & v_Nsemana & v_Dia_semana]['cumple_cliente'].mean()\n",
    "    VT11_GENERICA.loc[row_index, 'cumple_cliente_MENSUAL']=DEMORA_INICIO_CLIENTE_SEMANAL\n",
    "\n",
    "     #VT11_CUMPLE_CLIENTE\n",
    "for  row_index,row  in VT11_GENERICA.iterrows():\n",
    "    DEMORA_INICIO_CLIENTE_SEMANAL=0\n",
    "    v_planta=VT11_GENERICA['PLANTA']== VT11_GENERICA.loc[row_index ,'PLANTA' ]\n",
    "    v_pais=VT11_GENERICA['PAIS']==VT11_GENERICA.loc[row_index ,'PAIS' ]\n",
    "    v_Nsemana=VT11_GENERICA['ANIO']==VT11_GENERICA.loc[row_index ,'ANIO' ]\n",
    "    v_Dia_semana=VT11_GENERICA['DIA_ANIO']<=VT11_GENERICA.loc[row_index ,'DIA_ANIO' ]\n",
    "    DEMORA_INICIO_CLIENTE_SEMANAL=VT11_GENERICA[v_planta & v_pais & v_Nsemana & v_Dia_semana]['cumple_cliente'].mean()\n",
    "    VT11_GENERICA.loc[row_index, 'cumple_cliente_ANUAL']=DEMORA_INICIO_CLIENTE_SEMANAL\n",
    "VT11_DEMORA_INICIO_CLIENTE_semana.fillna(0, inplace=True)    \n",
    "\n",
    "\n",
    " #VT11_CUMPLE_CLIENTE\n",
    "VT11_GENERICA['OBJETIVO_CUMPLE_CLIENTE']=VT11_GENERICA['OBJETIVO_CUMPLE_CLIENTE']*100\n",
    "VT11_GENERICA['STATUS']=VT11_GENERICA['cumple_cliente']/VT11_GENERICA['OBJETIVO_CUMPLE_CLIENTE']*100\n",
    "VT11_GENERICA['STATUS_SEMANAL']=VT11_GENERICA['cumple_cliente_SEMANAL']/VT11_GENERICA['OBJETIVO_CUMPLE_CLIENTE']*100\n",
    "VT11_GENERICA['STATUS_MENSUAL']=VT11_GENERICA['cumple_cliente_MENSUAL']/VT11_GENERICA['OBJETIVO_CUMPLE_CLIENTE']*100\n",
    "VT11_GENERICA['STATUS_ANUAL']=VT11_GENERICA['cumple_cliente_ANUAL']/VT11_GENERICA['OBJETIVO_CUMPLE_CLIENTE']*100\n",
    "VT11_GENERICA.fillna(0, inplace=True)    \n",
    "\n",
    "VT11_CUMPLE_CLIENTE_SEMANA= VT11_GENERICA"
   ]
  },
  {
   "cell_type": "code",
   "execution_count": 26,
   "metadata": {},
   "outputs": [],
   "source": [
    " #Cumple_tiempo_carga\n",
    "VT11_CUMPLE_TIEMPO_CARGA=vt11.groupby(['inPlanCarg','PLANTA','PAIS'])[['Cumple_tiempo_carga','OBJETIVO_CUMP_T_CARAGA']].mean()\n",
    "VT11_CUMPLE_TIEMPO_CARGA=VT11_CUMPLE_TIEMPO_CARGA.reset_index()\n",
    "VT11_CUMPLE_TIEMPO_CARGA['INDICADOR']='Cumplimiento Tiempo de Carga'\n",
    "VT11_CUMPLE_TIEMPO_CARGA['UNIDAD']='%'\n",
    "VT11_CUMPLE_TIEMPO_CARGA['Cumple_tiempo_carga']=VT11_CUMPLE_TIEMPO_CARGA['Cumple_tiempo_carga']*100"
   ]
  },
  {
   "cell_type": "code",
   "execution_count": 27,
   "metadata": {},
   "outputs": [],
   "source": [
    " #VT11_CUMPLE_TIEMPO_CARGA\n",
    "# df['rainfall'].rolling(min_periods=7, window=7).sum()\n",
    "VT11_GENERICA=VT11_CUMPLE_TIEMPO_CARGA\n",
    "VT11_GENERICA['DIA_SEMANA']=VT11_GENERICA.inPlanCarg.dt.dayofweek\n",
    "VT11_GENERICA['DIA_MES']=VT11_GENERICA.inPlanCarg.dt.day\n",
    "VT11_GENERICA['ANIO']=VT11_GENERICA.inPlanCarg.dt.year\n",
    "VT11_GENERICA['DIA_ANIO']=VT11_GENERICA.inPlanCarg.dt.dayofyear\n",
    "VT11_GENERICA['NO_SEMANA']=VT11_GENERICA.inPlanCarg.dt.weekofyear\n",
    "VT11_GENERICA['MES']=VT11_GENERICA.inPlanCarg.dt.month\n",
    "\n",
    "\n",
    " #VT11_CUMPLE_TIEMPO_CARGA\n",
    "for  row_index,row  in VT11_GENERICA.iterrows():\n",
    "    DEMORA_INICIO_CLIENTE_SEMANAL=0\n",
    "    v_planta=VT11_GENERICA['PLANTA']== VT11_GENERICA.loc[row_index ,'PLANTA' ]\n",
    "    v_pais=VT11_GENERICA['PAIS']==VT11_GENERICA.loc[row_index ,'PAIS' ]\n",
    "    v_Nsemana=VT11_GENERICA['NO_SEMANA']==VT11_GENERICA.loc[row_index ,'NO_SEMANA' ]\n",
    "    v_Dia_semana=VT11_GENERICA['DIA_SEMANA']<=VT11_GENERICA.loc[row_index ,'DIA_SEMANA' ]\n",
    "    DEMORA_INICIO_CLIENTE_SEMANAL=VT11_GENERICA[v_planta & v_pais & v_Nsemana & v_Dia_semana]['Cumple_tiempo_carga'].mean()\n",
    "    VT11_GENERICA.loc[row_index, 'Cumple_tiempo_carga_SEMANAL']=DEMORA_INICIO_CLIENTE_SEMANAL\n",
    "\n",
    " #VT11_CUMPLE_TIEMPO_CARGA\n",
    "for  row_index,row  in VT11_GENERICA.iterrows():\n",
    "    DEMORA_INICIO_CLIENTE_SEMANAL=0\n",
    "    v_planta=VT11_GENERICA['PLANTA']== VT11_GENERICA.loc[row_index ,'PLANTA' ]\n",
    "    v_pais=VT11_GENERICA['PAIS']==VT11_GENERICA.loc[row_index ,'PAIS' ]\n",
    "    v_Nsemana=VT11_GENERICA['MES']==VT11_GENERICA.loc[row_index ,'MES' ]\n",
    "    v_Dia_semana=VT11_GENERICA['DIA_MES']<=VT11_GENERICA.loc[row_index ,'DIA_MES' ]\n",
    "    DEMORA_INICIO_CLIENTE_SEMANAL=VT11_GENERICA[v_planta & v_pais & v_Nsemana & v_Dia_semana]['Cumple_tiempo_carga'].mean()\n",
    "    VT11_GENERICA.loc[row_index, 'cumple_cliente_MENSUAL']=DEMORA_INICIO_CLIENTE_SEMANAL\n",
    "\n",
    "     #VT11_CUMPLE_TIEMPO_CARGA\n",
    "for  row_index,row  in VT11_GENERICA.iterrows():\n",
    "    DEMORA_INICIO_CLIENTE_SEMANAL=0\n",
    "    v_planta=VT11_GENERICA['PLANTA']== VT11_GENERICA.loc[row_index ,'PLANTA' ]\n",
    "    v_pais=VT11_GENERICA['PAIS']==VT11_GENERICA.loc[row_index ,'PAIS' ]\n",
    "    v_Nsemana=VT11_GENERICA['ANIO']==VT11_GENERICA.loc[row_index ,'ANIO' ]\n",
    "    v_Dia_semana=VT11_GENERICA['DIA_ANIO']<=VT11_GENERICA.loc[row_index ,'DIA_ANIO' ]\n",
    "    DEMORA_INICIO_CLIENTE_SEMANAL=VT11_GENERICA[v_planta & v_pais & v_Nsemana & v_Dia_semana]['Cumple_tiempo_carga'].mean()\n",
    "    VT11_GENERICA.loc[row_index, 'Cumple_tiempo_carga_ANUAL']=DEMORA_INICIO_CLIENTE_SEMANAL\n",
    "VT11_DEMORA_INICIO_CLIENTE_semana.fillna(0, inplace=True)    \n",
    "\n",
    "\n",
    " #VT11_CUMPLE_TIEMPO_CARGA\n",
    "VT11_GENERICA['OBJETIVO_CUMP_T_CARAGA']=VT11_GENERICA['OBJETIVO_CUMP_T_CARAGA']*100\n",
    "VT11_GENERICA['STATUS']=VT11_GENERICA['Cumple_tiempo_carga']/VT11_GENERICA['OBJETIVO_CUMP_T_CARAGA']*100\n",
    "VT11_GENERICA['STATUS_SEMANAL']=VT11_GENERICA['Cumple_tiempo_carga_SEMANAL']/VT11_GENERICA['OBJETIVO_CUMP_T_CARAGA']*100\n",
    "VT11_GENERICA['STATUS_MENSUAL']=VT11_GENERICA['cumple_cliente_MENSUAL']/VT11_GENERICA['OBJETIVO_CUMP_T_CARAGA']*100\n",
    "VT11_GENERICA['STATUS_ANUAL']=VT11_GENERICA['Cumple_tiempo_carga_ANUAL']/VT11_GENERICA['OBJETIVO_CUMP_T_CARAGA']*100\n",
    "VT11_GENERICA.fillna(0, inplace=True)    \n",
    "\n",
    "VT11_CUMPLE_TIEMPO_CARGA_SEMANAL=VT11_GENERICA "
   ]
  },
  {
   "cell_type": "code",
   "execution_count": 28,
   "metadata": {},
   "outputs": [],
   "source": [
    "#Total de toneladas métricas producidas\n",
    "VT11_TONELADAS_PRODUCIDAS=vt11.groupby(['inPlanCarg','PLANTA','PAIS'])[['pESO_rEAL']].sum()\n",
    "VT11_TONELADAS_PRODUCIDAS=VT11_TONELADAS_PRODUCIDAS.reset_index()\n",
    "VT11_TONELADAS_PRODUCIDAS['INDICADOR']='Total de toneladas métricas producidas'\n",
    "VT11_TONELADAS_PRODUCIDAS['UNIDAD']='Ton'\n",
    "VT11_TONELADAS_PRODUCIDAS['pESO_rEAL']=VT11_TONELADAS_PRODUCIDAS['pESO_rEAL']/1000"
   ]
  },
  {
   "cell_type": "code",
   "execution_count": 29,
   "metadata": {},
   "outputs": [],
   "source": [
    " #VT11_TONELADAS_PRODUCIDAS\n",
    "# df['rainfall'].rolling(min_periods=7, window=7).sum()\n",
    "VT11_GENERICA=VT11_TONELADAS_PRODUCIDAS\n",
    "VT11_GENERICA['DIA_SEMANA']=VT11_GENERICA.inPlanCarg.dt.dayofweek\n",
    "VT11_GENERICA['DIA_MES']=VT11_GENERICA.inPlanCarg.dt.day\n",
    "VT11_GENERICA['ANIO']=VT11_GENERICA.inPlanCarg.dt.year\n",
    "VT11_GENERICA['DIA_ANIO']=VT11_GENERICA.inPlanCarg.dt.dayofyear\n",
    "VT11_GENERICA['NO_SEMANA']=VT11_GENERICA.inPlanCarg.dt.weekofyear\n",
    "VT11_GENERICA['MES']=VT11_GENERICA.inPlanCarg.dt.month\n",
    "\n",
    "\n",
    " #VT11_TONELADAS_PRODUCIDAS\n",
    "for  row_index,row  in VT11_GENERICA.iterrows():\n",
    "    DEMORA_INICIO_CLIENTE_SEMANAL=0\n",
    "    v_planta=VT11_GENERICA['PLANTA']== VT11_GENERICA.loc[row_index ,'PLANTA' ]\n",
    "    v_pais=VT11_GENERICA['PAIS']==VT11_GENERICA.loc[row_index ,'PAIS' ]\n",
    "    v_Nsemana=VT11_GENERICA['NO_SEMANA']==VT11_GENERICA.loc[row_index ,'NO_SEMANA' ]\n",
    "    v_Dia_semana=VT11_GENERICA['DIA_SEMANA']<=VT11_GENERICA.loc[row_index ,'DIA_SEMANA' ]\n",
    "    DEMORA_INICIO_CLIENTE_SEMANAL=VT11_GENERICA[v_planta & v_pais & v_Nsemana & v_Dia_semana]['pESO_rEAL'].sum()\n",
    "    VT11_GENERICA.loc[row_index, 'Total_toneladas_SEMANAL']=DEMORA_INICIO_CLIENTE_SEMANAL\n",
    "\n",
    " #VT11_TONELADAS_PRODUCIDAS\n",
    "for  row_index,row  in VT11_GENERICA.iterrows():\n",
    "    DEMORA_INICIO_CLIENTE_SEMANAL=0\n",
    "    v_planta=VT11_GENERICA['PLANTA']== VT11_GENERICA.loc[row_index ,'PLANTA' ]\n",
    "    v_pais=VT11_GENERICA['PAIS']==VT11_GENERICA.loc[row_index ,'PAIS' ]\n",
    "    v_Nsemana=VT11_GENERICA['MES']==VT11_GENERICA.loc[row_index ,'MES' ]\n",
    "    v_Dia_semana=VT11_GENERICA['DIA_MES']<=VT11_GENERICA.loc[row_index ,'DIA_MES' ]\n",
    "    DEMORA_INICIO_CLIENTE_SEMANAL=VT11_GENERICA[v_planta & v_pais & v_Nsemana & v_Dia_semana]['pESO_rEAL'].sum()\n",
    "    VT11_GENERICA.loc[row_index, 'Total_toneladas_MENSUAL']=DEMORA_INICIO_CLIENTE_SEMANAL\n",
    "\n",
    "     #VT11_TONELADAS_PRODUCIDAS\n",
    "for  row_index,row  in VT11_GENERICA.iterrows():\n",
    "    DEMORA_INICIO_CLIENTE_SEMANAL=0\n",
    "    v_planta=VT11_GENERICA['PLANTA']== VT11_GENERICA.loc[row_index ,'PLANTA' ]\n",
    "    v_pais=VT11_GENERICA['PAIS']==VT11_GENERICA.loc[row_index ,'PAIS' ]\n",
    "    v_Nsemana=VT11_GENERICA['ANIO']==VT11_GENERICA.loc[row_index ,'ANIO' ]\n",
    "    v_Dia_semana=VT11_GENERICA['DIA_ANIO']<=VT11_GENERICA.loc[row_index ,'DIA_ANIO' ]\n",
    "    DEMORA_INICIO_CLIENTE_SEMANAL=VT11_GENERICA[v_planta & v_pais & v_Nsemana & v_Dia_semana]['pESO_rEAL'].sum()\n",
    "    VT11_GENERICA.loc[row_index, 'Total_toneladas_ANUAL']=DEMORA_INICIO_CLIENTE_SEMANAL\n",
    "VT11_DEMORA_INICIO_CLIENTE_semana.fillna(0, inplace=True)    \n",
    "\n",
    "\n",
    " #VT11_TONELADAS_PRODUCIDAS\n",
    "VT11_GENERICA['OBJETIVO_CUMPLE_CLIENTE']=0\n",
    "VT11_GENERICA['STATUS']=0\n",
    "VT11_GENERICA['STATUS_SEMANAL']=0\n",
    "VT11_GENERICA['STATUS_MENSUAL']=0\n",
    "VT11_GENERICA['STATUS_ANUAL']=0\n",
    "VT11_GENERICA.fillna(0, inplace=True)    \n",
    "\n",
    "VT11_TONELADAS_PRODUCIDAS_SEMANAL=VT11_GENERICA "
   ]
  },
  {
   "cell_type": "code",
   "execution_count": 30,
   "metadata": {},
   "outputs": [],
   "source": [
    "#Total Camiones Atendido\n",
    "VT11_CAMIONES_ATENDIDOS=vt11.groupby(['inPlanCarg','PLANTA','PAIS'])[['transporte']].count()\n",
    "VT11_CAMIONES_ATENDIDOS=VT11_CAMIONES_ATENDIDOS.reset_index()\n",
    "VT11_CAMIONES_ATENDIDOS['INDICADOR']='Total Camiones Atendidos'\n",
    "VT11_CAMIONES_ATENDIDOS['UNIDAD']=''\n"
   ]
  },
  {
   "cell_type": "code",
   "execution_count": 31,
   "metadata": {},
   "outputs": [],
   "source": [
    " #VT11_CAMIONES_ATENDIDOS\n",
    "# df['rainfall'].rolling(min_periods=7, window=7).sum()\n",
    "VT11_GENERICA=VT11_CAMIONES_ATENDIDOS\n",
    "VT11_GENERICA['DIA_SEMANA']=VT11_GENERICA.inPlanCarg.dt.dayofweek\n",
    "VT11_GENERICA['DIA_MES']=VT11_GENERICA.inPlanCarg.dt.day\n",
    "VT11_GENERICA['ANIO']=VT11_GENERICA.inPlanCarg.dt.year\n",
    "VT11_GENERICA['DIA_ANIO']=VT11_GENERICA.inPlanCarg.dt.dayofyear\n",
    "VT11_GENERICA['NO_SEMANA']=VT11_GENERICA.inPlanCarg.dt.weekofyear\n",
    "VT11_GENERICA['MES']=VT11_GENERICA.inPlanCarg.dt.month\n",
    "\n",
    "\n",
    " #VT11_CAMIONES_ATENDIDOS\n",
    "for  row_index,row  in VT11_GENERICA.iterrows():\n",
    "    DEMORA_INICIO_CLIENTE_SEMANAL=0\n",
    "    v_planta=VT11_GENERICA['PLANTA']== VT11_GENERICA.loc[row_index ,'PLANTA' ]\n",
    "    v_pais=VT11_GENERICA['PAIS']==VT11_GENERICA.loc[row_index ,'PAIS' ]\n",
    "    v_Nsemana=VT11_GENERICA['NO_SEMANA']==VT11_GENERICA.loc[row_index ,'NO_SEMANA' ]\n",
    "    v_Dia_semana=VT11_GENERICA['DIA_SEMANA']<=VT11_GENERICA.loc[row_index ,'DIA_SEMANA' ]\n",
    "    DEMORA_INICIO_CLIENTE_SEMANAL=VT11_GENERICA[v_planta & v_pais & v_Nsemana & v_Dia_semana]['transporte'].sum()\n",
    "    VT11_GENERICA.loc[row_index, 'CAMIONES_ATENDIDOS_SEMANAL']=DEMORA_INICIO_CLIENTE_SEMANAL\n",
    "\n",
    " #VT11_CAMIONES_ATENDIDOS\n",
    "for  row_index,row  in VT11_GENERICA.iterrows():\n",
    "    DEMORA_INICIO_CLIENTE_SEMANAL=0\n",
    "    v_planta=VT11_GENERICA['PLANTA']== VT11_GENERICA.loc[row_index ,'PLANTA' ]\n",
    "    v_pais=VT11_GENERICA['PAIS']==VT11_GENERICA.loc[row_index ,'PAIS' ]\n",
    "    v_Nsemana=VT11_GENERICA['MES']==VT11_GENERICA.loc[row_index ,'MES' ]\n",
    "    v_Dia_semana=VT11_GENERICA['DIA_MES']<=VT11_GENERICA.loc[row_index ,'DIA_MES' ]\n",
    "    DEMORA_INICIO_CLIENTE_SEMANAL=VT11_GENERICA[v_planta & v_pais & v_Nsemana & v_Dia_semana]['transporte'].sum()\n",
    "    VT11_GENERICA.loc[row_index, 'CAMIONES_ATENDIDOS_MENSUAL']=DEMORA_INICIO_CLIENTE_SEMANAL\n",
    "\n",
    "     #VT11_CAMIONES_ATENDIDOS\n",
    "for  row_index,row  in VT11_GENERICA.iterrows():\n",
    "    DEMORA_INICIO_CLIENTE_SEMANAL=0\n",
    "    v_planta=VT11_GENERICA['PLANTA']== VT11_GENERICA.loc[row_index ,'PLANTA' ]\n",
    "    v_pais=VT11_GENERICA['PAIS']==VT11_GENERICA.loc[row_index ,'PAIS' ]\n",
    "    v_Nsemana=VT11_GENERICA['ANIO']==VT11_GENERICA.loc[row_index ,'ANIO' ]\n",
    "    v_Dia_semana=VT11_GENERICA['DIA_ANIO']<=VT11_GENERICA.loc[row_index ,'DIA_ANIO' ]\n",
    "    DEMORA_INICIO_CLIENTE_SEMANAL=VT11_GENERICA[v_planta & v_pais & v_Nsemana & v_Dia_semana]['transporte'].sum()\n",
    "    VT11_GENERICA.loc[row_index, 'CAMIONES_ATENDIDOS_ANUAL']=DEMORA_INICIO_CLIENTE_SEMANAL\n",
    "VT11_DEMORA_INICIO_CLIENTE_semana.fillna(0, inplace=True)    \n",
    "\n",
    "\n",
    " #VT11_CAMIONES_ATENDIDOS\n",
    "VT11_GENERICA['OBJETIVO_CUMPLE_CLIENTE']=0\n",
    "VT11_GENERICA['STATUS']=0\n",
    "VT11_GENERICA['STATUS_SEMANAL']=0\n",
    "VT11_GENERICA['STATUS_MENSUAL']=0\n",
    "VT11_GENERICA['STATUS_ANUAL']=0\n",
    "VT11_GENERICA.fillna(0, inplace=True)    \n",
    "\n",
    "VT11_CAMIONES_ATENDIDOS_SEMANAL=VT11_GENERICA "
   ]
  },
  {
   "cell_type": "code",
   "execution_count": 32,
   "metadata": {},
   "outputs": [],
   "source": [
    "# Convert account_opened to datetime\n",
    "vt11['Plan_T_Car'] = pd.to_datetime(vt11['Plan_T_Car'],\n",
    "                                           # Infer datetime format\n",
    "                                           infer_datetime_format = True,\n",
    "                                           # Return missing value for error\n",
    "                                           errors = 'coerce' ) \n",
    "# Convert account_opened to datetime\n",
    "vt11['Real_T_Car'] = pd.to_datetime(vt11['Real_T_Car'],\n",
    "                                           # Infer datetime format\n",
    "                                           infer_datetime_format = True,\n",
    "                                           # Return missing value for error\n",
    "                                           errors = 'coerce' ) "
   ]
  },
  {
   "cell_type": "code",
   "execution_count": 33,
   "metadata": {},
   "outputs": [],
   "source": [
    "vt11_Demora_carga=vt11['Plan_T_Car'] -  vt11['Real_T_Car'] \n",
    "vt11[\"Demora_tiempo_carga\"]=abs(vt11_Demora_carga.dt.total_seconds())"
   ]
  },
  {
   "cell_type": "code",
   "execution_count": 34,
   "metadata": {},
   "outputs": [],
   "source": [
    "#          OPE_INDICADORES_PLANTA.[Plan T Car] Plan_T_Car,\n",
    "#          OPE_INDICADORES_PLANTA.[Real T Car] Real_T_Car,\n",
    "# vt11.iloc[: ,[-1]]\n",
    "\n",
    "for x,y in enumerate(vt11['Plan_T_Car']):\n",
    "    if vt11.iloc[x,17]>vt11.iloc[x,18]:\n",
    "        vt11.iloc[x,-1]=np.nan\n"
   ]
  },
  {
   "cell_type": "code",
   "execution_count": 35,
   "metadata": {},
   "outputs": [],
   "source": [
    "#DIFERENCIA_CUMPLE_CLIENTE\n",
    "VT11_DEMORA_TIEMPO_CARGA=vt11.groupby(['inPlanCarg','PLANTA','PAIS'])[['Demora_tiempo_carga','OBJETIVO_DEMORA_PROME_T_CARGA']].sum()\n",
    "VT11_DEMORA_TIEMPO_CARGA=VT11_DEMORA_TIEMPO_CARGA.reset_index()\n",
    "VT11_DEMORA_TIEMPO_CARGA['INDICADOR']='Demora en el tiempo de carga'\n",
    "VT11_DEMORA_TIEMPO_CARGA['UNIDAD']='Minutos'\n",
    "VT11_DEMORA_TIEMPO_CARGA['Demora_tiempo_carga']=VT11_DEMORA_TIEMPO_CARGA['Demora_tiempo_carga']/60\n",
    "VT11_DEMORA_TIEMPO_CARGA['OBJETIVO_DEMORA_PROME_T_CARGA']=VT11_DEMORA_TIEMPO_CARGA['OBJETIVO_DEMORA_PROME_T_CARGA']/60"
   ]
  },
  {
   "cell_type": "code",
   "execution_count": 36,
   "metadata": {},
   "outputs": [],
   "source": [
    " #VT11_DEMORA_TIEMPO_CARGA\n",
    "# df['rainfall'].rolling(min_periods=7, window=7).sum()\n",
    "VT11_GENERICA=VT11_DEMORA_TIEMPO_CARGA\n",
    "VT11_GENERICA['DIA_SEMANA']=VT11_GENERICA.inPlanCarg.dt.dayofweek\n",
    "VT11_GENERICA['DIA_MES']=VT11_GENERICA.inPlanCarg.dt.day\n",
    "VT11_GENERICA['ANIO']=VT11_GENERICA.inPlanCarg.dt.year\n",
    "VT11_GENERICA['DIA_ANIO']=VT11_GENERICA.inPlanCarg.dt.dayofyear\n",
    "VT11_GENERICA['NO_SEMANA']=VT11_GENERICA.inPlanCarg.dt.weekofyear\n",
    "VT11_GENERICA['MES']=VT11_GENERICA.inPlanCarg.dt.month\n",
    "\n",
    "\n",
    " #VT11_DEMORA_TIEMPO_CARGA\n",
    "for  row_index,row  in VT11_GENERICA.iterrows():\n",
    "    DEMORA_INICIO_CLIENTE_SEMANAL=0\n",
    "    v_planta=VT11_GENERICA['PLANTA']== VT11_GENERICA.loc[row_index ,'PLANTA' ]\n",
    "    v_pais=VT11_GENERICA['PAIS']==VT11_GENERICA.loc[row_index ,'PAIS' ]\n",
    "    v_Nsemana=VT11_GENERICA['NO_SEMANA']==VT11_GENERICA.loc[row_index ,'NO_SEMANA' ]\n",
    "    v_Dia_semana=VT11_GENERICA['DIA_SEMANA']<=VT11_GENERICA.loc[row_index ,'DIA_SEMANA' ]\n",
    "    DEMORA_INICIO_CLIENTE_SEMANAL=VT11_GENERICA[v_planta & v_pais & v_Nsemana & v_Dia_semana]['Demora_tiempo_carga'].count()\n",
    "    VT11_GENERICA.loc[row_index, 'Demora_tiempo_carga_SEMANAL']=DEMORA_INICIO_CLIENTE_SEMANAL\n",
    "\n",
    " #VT11_DEMORA_TIEMPO_CARGA\n",
    "for  row_index,row  in VT11_GENERICA.iterrows():\n",
    "    DEMORA_INICIO_CLIENTE_SEMANAL=0\n",
    "    v_planta=VT11_GENERICA['PLANTA']== VT11_GENERICA.loc[row_index ,'PLANTA' ]\n",
    "    v_pais=VT11_GENERICA['PAIS']==VT11_GENERICA.loc[row_index ,'PAIS' ]\n",
    "    v_Nsemana=VT11_GENERICA['MES']==VT11_GENERICA.loc[row_index ,'MES' ]\n",
    "    v_Dia_semana=VT11_GENERICA['DIA_MES']<=VT11_GENERICA.loc[row_index ,'DIA_MES' ]\n",
    "    DEMORA_INICIO_CLIENTE_SEMANAL=VT11_GENERICA[v_planta & v_pais & v_Nsemana & v_Dia_semana]['Demora_tiempo_carga'].mean()\n",
    "    VT11_GENERICA.loc[row_index, 'Demora_tiempo_carga_MENSUAL']=DEMORA_INICIO_CLIENTE_SEMANAL\n",
    "\n",
    "     #VT11_DEMORA_TIEMPO_CARGA\n",
    "for  row_index,row  in VT11_GENERICA.iterrows():\n",
    "    DEMORA_INICIO_CLIENTE_SEMANAL=0\n",
    "    v_planta=VT11_GENERICA['PLANTA']== VT11_GENERICA.loc[row_index ,'PLANTA' ]\n",
    "    v_pais=VT11_GENERICA['PAIS']==VT11_GENERICA.loc[row_index ,'PAIS' ]\n",
    "    v_Nsemana=VT11_GENERICA['ANIO']==VT11_GENERICA.loc[row_index ,'ANIO' ]\n",
    "    v_Dia_semana=VT11_GENERICA['DIA_ANIO']<=VT11_GENERICA.loc[row_index ,'DIA_ANIO' ]\n",
    "    DEMORA_INICIO_CLIENTE_SEMANAL=VT11_GENERICA[v_planta & v_pais & v_Nsemana & v_Dia_semana]['Demora_tiempo_carga'].mean()\n",
    "    VT11_GENERICA.loc[row_index, 'Demora_tiempo_carga_ANUAL']=DEMORA_INICIO_CLIENTE_SEMANAL\n",
    "VT11_DEMORA_INICIO_CLIENTE_semana.fillna(0, inplace=True)    \n",
    "\n",
    "\n",
    "\n",
    " #VT11_CUMPLE_TIEMPO_CARGA\n",
    "VT11_GENERICA['OBJETIVO_CUMP_T_CARAGA']=VT11_GENERICA['OBJETIVO_DEMORA_PROME_T_CARGA']*100\n",
    "VT11_GENERICA['STATUS']=VT11_GENERICA['Demora_tiempo_carga']/VT11_GENERICA['OBJETIVO_DEMORA_PROME_T_CARGA']*100\n",
    "VT11_GENERICA['STATUS_SEMANAL']=VT11_GENERICA['Demora_tiempo_carga_SEMANAL']/VT11_GENERICA['OBJETIVO_DEMORA_PROME_T_CARGA']*100\n",
    "VT11_GENERICA['STATUS_MENSUAL']=VT11_GENERICA['Demora_tiempo_carga_MENSUAL']/VT11_GENERICA['OBJETIVO_DEMORA_PROME_T_CARGA']*100\n",
    "VT11_GENERICA['STATUS_ANUAL']=VT11_GENERICA['Demora_tiempo_carga_ANUAL']/VT11_GENERICA['OBJETIVO_DEMORA_PROME_T_CARGA']*100\n",
    "VT11_GENERICA.fillna(0, inplace=True)    \n",
    "\n",
    "VT11_DEMORA_TIEMPO_CARGA_SEMANAL=VT11_GENERICA "
   ]
  },
  {
   "cell_type": "code",
   "execution_count": 37,
   "metadata": {},
   "outputs": [],
   "source": [
    "VT11_OTIF_FINAL=VT11_OTIF_semana[['inPlanCarg','PLANTA','PAIS','INDICADOR','UNIDAD','OTIF',\n",
    "                  'OBJETIVO_OTIF','STATUS','OTIF_SEMANAL','OBJETIVO_OTIF',\n",
    "                 'STATUS_SEMANAL','OTIF_MENSUL','OBJETIVO_OTIF','STATUS_MENSUAL',\n",
    "                 'OTIF_ANIO','OBJETIVO_OTIF','STATUS_ANUAL']]\n"
   ]
  },
  {
   "cell_type": "code",
   "execution_count": 38,
   "metadata": {},
   "outputs": [],
   "source": [
    "VT11_DEMORA_INICIO_CLIENTE_semana['STATUS' ]=0 \n",
    "VT11_DEMORA_INICIO_CLIENTE_semana['STATUS_SEMANAL' ]=0 \n",
    "VT11_DEMORA_INICIO_CLIENTE_semana['STATUS_MENSUAL' ]=0 \n",
    "VT11_DEMORA_INICIO_CLIENTE_semana['STATUS_ANUAL' ]=0 \n",
    "VT11_DEMORA_INICIO_CLIENTE_FINAL=VT11_DEMORA_INICIO_CLIENTE_semana[['inPlanCarg','PLANTA','PAIS','INDICADOR','UNIDAD','DIFERENCIA_CUMPLE_CLIENTE',\n",
    "                  'OBJETIVO_DEMORA_PROME_H_INI_CARGA','STATUS','DIFERENCIA_CUMPLE_CLIENTE_SEMANAL','OBJETIVO_DEMORA_PROME_H_INI_CARGA',\n",
    "                 'STATUS_SEMANAL','DIFERENCIA_CUMPLE_CLIENTE_MENSUAL','OBJETIVO_DEMORA_PROME_H_INI_CARGA','STATUS_MENSUAL',\n",
    "                 'DIFERENCIA_CUMPLE_CLIENTE_ANUAL','OBJETIVO_DEMORA_PROME_H_INI_CARGA','STATUS_ANUAL']]"
   ]
  },
  {
   "cell_type": "code",
   "execution_count": 39,
   "metadata": {},
   "outputs": [],
   "source": [
    "VT11_CUMPLE_INI_CARGA_FINAL=VT11_CUMPLE_INI_CARGA_semana[['inPlanCarg','PLANTA','PAIS','INDICADOR','UNIDAD','Cumple_inicio_carga',\n",
    "                  'OBJETIVO_CUMP_H_INI_CARGA','STATUS','Cumplimiento Inicio de Carga_SEMANAL','OBJETIVO_CUMP_H_INI_CARGA',\n",
    "                 'STATUS_SEMANAL','Cumplimiento Inicio de Carga_MENSUAL','OBJETIVO_CUMP_H_INI_CARGA','STATUS_MENSUAL',\n",
    "                 'Cumplimiento Inicio de Carga_ANUAL','OBJETIVO_CUMP_H_INI_CARGA','STATUS_ANUAL']]\n"
   ]
  },
  {
   "cell_type": "code",
   "execution_count": 40,
   "metadata": {},
   "outputs": [],
   "source": [
    "VT11_CUMPLE_CLIENTE_FINAL=VT11_CUMPLE_CLIENTE_SEMANA[['inPlanCarg','PLANTA','PAIS','INDICADOR','UNIDAD','cumple_cliente',\n",
    "                  'OBJETIVO_CUMPLE_CLIENTE','STATUS','cumple_cliente_SEMANAL','OBJETIVO_CUMPLE_CLIENTE',\n",
    "                 'STATUS_SEMANAL','cumple_cliente_MENSUAL','OBJETIVO_CUMPLE_CLIENTE','STATUS_MENSUAL',\n",
    "                 'cumple_cliente_ANUAL','OBJETIVO_CUMPLE_CLIENTE','STATUS_ANUAL']]"
   ]
  },
  {
   "cell_type": "code",
   "execution_count": 41,
   "metadata": {},
   "outputs": [],
   "source": [
    "VT11_CUMPLE_TIEMPO_CARGA_FINAL=VT11_CUMPLE_TIEMPO_CARGA_SEMANAL[['inPlanCarg','PLANTA','PAIS','INDICADOR','UNIDAD','Cumple_tiempo_carga',\n",
    "                  'OBJETIVO_CUMP_T_CARAGA','STATUS','Cumple_tiempo_carga_SEMANAL','OBJETIVO_CUMP_T_CARAGA',\n",
    "                 'STATUS_SEMANAL','cumple_cliente_MENSUAL','OBJETIVO_CUMP_T_CARAGA','STATUS_MENSUAL',\n",
    "                 'Cumple_tiempo_carga_ANUAL','OBJETIVO_CUMP_T_CARAGA','STATUS_ANUAL']]"
   ]
  },
  {
   "cell_type": "code",
   "execution_count": 42,
   "metadata": {},
   "outputs": [],
   "source": [
    "VT11_TONELADAS_PRODUCIDAS_FINAL=VT11_TONELADAS_PRODUCIDAS_SEMANAL[['inPlanCarg','PLANTA','PAIS','INDICADOR','UNIDAD','pESO_rEAL',\n",
    "                  'OBJETIVO_CUMPLE_CLIENTE','STATUS','Total_toneladas_SEMANAL','OBJETIVO_CUMPLE_CLIENTE',\n",
    "                 'STATUS_SEMANAL','Total_toneladas_MENSUAL','OBJETIVO_CUMPLE_CLIENTE','STATUS_MENSUAL',\n",
    "                 'Total_toneladas_ANUAL','OBJETIVO_CUMPLE_CLIENTE','STATUS_ANUAL']]"
   ]
  },
  {
   "cell_type": "code",
   "execution_count": 43,
   "metadata": {},
   "outputs": [],
   "source": [
    "VT11_CAMIONES_ATENDIDOS_FINAL=VT11_CAMIONES_ATENDIDOS_SEMANAL[['inPlanCarg','PLANTA','PAIS','INDICADOR','UNIDAD','transporte',\n",
    "                  'OBJETIVO_CUMPLE_CLIENTE','STATUS','CAMIONES_ATENDIDOS_SEMANAL','OBJETIVO_CUMPLE_CLIENTE',\n",
    "                 'STATUS_SEMANAL','CAMIONES_ATENDIDOS_MENSUAL','OBJETIVO_CUMPLE_CLIENTE','STATUS_MENSUAL',\n",
    "                 'CAMIONES_ATENDIDOS_ANUAL','OBJETIVO_CUMPLE_CLIENTE','STATUS_ANUAL']]"
   ]
  },
  {
   "cell_type": "code",
   "execution_count": 44,
   "metadata": {},
   "outputs": [],
   "source": [
    "VT11_DEMORA_TIEMPO_CARGA_FINAL=VT11_DEMORA_TIEMPO_CARGA_SEMANAL[['inPlanCarg','PLANTA','PAIS','INDICADOR','UNIDAD','Demora_tiempo_carga',\n",
    "                  'OBJETIVO_DEMORA_PROME_T_CARGA','STATUS','Demora_tiempo_carga_SEMANAL','OBJETIVO_DEMORA_PROME_T_CARGA',\n",
    "                 'STATUS_SEMANAL','Demora_tiempo_carga_MENSUAL','OBJETIVO_DEMORA_PROME_T_CARGA','STATUS_MENSUAL',\n",
    "                 'Demora_tiempo_carga_ANUAL','OBJETIVO_DEMORA_PROME_T_CARGA','STATUS_ANUAL']]"
   ]
  },
  {
   "cell_type": "code",
   "execution_count": 45,
   "metadata": {},
   "outputs": [],
   "source": [
    "columns = ['FECHA_CARGA', 'PLANTA', 'PAIS','INDICADOR','UNIDAD',\n",
    "           'DIARIO','OBJETIVO', 'STATUS',\n",
    "           'SEMANAL','OBJETIVO_SEMANAL', 'STATUS_SEMANAL',\n",
    "           'MENSUAL','OBJETIVO_MENSUAL', 'STATUS_MENSUAL',\n",
    "           'ANUAL','OBJETIVO_ANUAL', 'STATUS_ANUAL']\n",
    "\n"
   ]
  },
  {
   "cell_type": "code",
   "execution_count": 46,
   "metadata": {},
   "outputs": [],
   "source": [
    "VT11_OTIF_FINAL.columns=columns\n",
    "VT11_OTIF_FINAL.columns=columns\n",
    "VT11_DEMORA_INICIO_CLIENTE_FINAL.columns=columns\n",
    "VT11_CUMPLE_INI_CARGA_FINAL.columns=columns\n",
    "VT11_CUMPLE_CLIENTE_FINAL.columns=columns\n",
    "VT11_CUMPLE_TIEMPO_CARGA_FINAL.columns=columns\n",
    "VT11_TONELADAS_PRODUCIDAS_FINAL.columns=columns\n",
    "VT11_CAMIONES_ATENDIDOS_FINAL.columns=columns\n",
    "VT11_DEMORA_TIEMPO_CARGA_FINAL.columns=columns"
   ]
  },
  {
   "cell_type": "markdown",
   "metadata": {},
   "source": [
    "#pd.concat([VT11_OTIF_FINAL, VT11_DEMORA_INICIO_CLIENTE_FINAL])"
   ]
  },
  {
   "cell_type": "code",
   "execution_count": 47,
   "metadata": {},
   "outputs": [],
   "source": [
    "vt11_final=pd.concat([VT11_OTIF_FINAL, VT11_DEMORA_INICIO_CLIENTE_FINAL,VT11_CUMPLE_INI_CARGA_FINAL, VT11_CUMPLE_CLIENTE_FINAL,VT11_CUMPLE_TIEMPO_CARGA_FINAL,VT11_TONELADAS_PRODUCIDAS_FINAL, VT11_CAMIONES_ATENDIDOS_FINAL,VT11_DEMORA_TIEMPO_CARGA_FINAL], ignore_index=True)"
   ]
  },
  {
   "cell_type": "code",
   "execution_count": 48,
   "metadata": {},
   "outputs": [],
   "source": [
    "vt11_final=vt11_final.round(2 )"
   ]
  },
  {
   "cell_type": "code",
   "execution_count": 49,
   "metadata": {},
   "outputs": [],
   "source": [
    "vt11_final1=vt11_final.head(1)"
   ]
  },
  {
   "cell_type": "code",
   "execution_count": null,
   "metadata": {},
   "outputs": [],
   "source": [
    " "
   ]
  },
  {
   "cell_type": "code",
   "execution_count": 50,
   "metadata": {},
   "outputs": [],
   "source": [
    "vt11_final.loc[ : , 'DIARIO']=vt11_final['DIARIO'].astype('str')\n",
    "vt11_final.loc[ : , 'OBJETIVO']=vt11_final['OBJETIVO'].astype('str')\n",
    "vt11_final.loc[ : , 'STATUS']=vt11_final['STATUS'].astype('str')\n",
    "vt11_final.loc[ : , 'SEMANAL']=vt11_final['SEMANAL'].astype('str')\n",
    "vt11_final.loc[ : , 'OBJETIVO_SEMANAL']=vt11_final['OBJETIVO_SEMANAL'].astype('str')\n",
    "vt11_final.loc[ : , 'STATUS_SEMANAL']=vt11_final['STATUS_SEMANAL'].astype('str')\n",
    "vt11_final.loc[ : , 'MENSUAL']=vt11_final['MENSUAL'].astype('str')\n",
    "vt11_final.loc[ : , 'OBJETIVO_MENSUAL']=vt11_final['OBJETIVO_MENSUAL'].astype('str')\n",
    "vt11_final.loc[ : , 'STATUS_MENSUAL']=vt11_final['STATUS_MENSUAL'].astype('str')\n",
    "vt11_final.loc[ : , 'ANUAL']=vt11_final['ANUAL'].astype('str')\n",
    "vt11_final.loc[ : , 'OBJETIVO_ANUAL']=vt11_final['OBJETIVO_ANUAL'].astype('str')\n",
    "vt11_final.loc[ : , 'STATUS_ANUAL']=vt11_final['STATUS_ANUAL'].astype('str')"
   ]
  },
  {
   "cell_type": "code",
   "execution_count": 51,
   "metadata": {},
   "outputs": [],
   "source": [
    "vt11_final.loc[ : , 'DIARIO']=vt11_final['DIARIO'].replace('inf','0.0')\n",
    "vt11_final.loc[ : , 'OBJETIVO']=vt11_final['OBJETIVO'].replace('inf','0.0')\n",
    "vt11_final.loc[ : , 'STATUS']=vt11_final['STATUS'].replace('inf','0.0')\n",
    "vt11_final.loc[ : , 'SEMANAL']=vt11_final['SEMANAL'].replace('inf','0.0')\n",
    "vt11_final.loc[ : , 'OBJETIVO_SEMANAL']=vt11_final['OBJETIVO_SEMANAL'].replace('inf','0.0')\n",
    "vt11_final.loc[ : , 'STATUS_SEMANAL']=vt11_final['STATUS_SEMANAL'].replace('inf','0.0')\n",
    "vt11_final.loc[ : , 'MENSUAL']=vt11_final['MENSUAL'].replace('inf','0.0')\n",
    "vt11_final.loc[ : , 'OBJETIVO_MENSUAL']=vt11_final['OBJETIVO_MENSUAL'].replace('inf','0.0')\n",
    "vt11_final.loc[ : , 'STATUS_MENSUAL']=vt11_final['STATUS_MENSUAL'].replace('inf','0.0')\n",
    "vt11_final.loc[ : , 'ANUAL']=vt11_final['ANUAL'].replace('inf','0.0')\n",
    "vt11_final.loc[ : , 'OBJETIVO_ANUAL']=vt11_final['OBJETIVO_ANUAL'].replace('inf','0.0')\n",
    "vt11_final.loc[ : , 'STATUS_ANUAL']=vt11_final['STATUS_ANUAL'].replace('inf','0.0')"
   ]
  },
  {
   "cell_type": "code",
   "execution_count": 52,
   "metadata": {},
   "outputs": [],
   "source": [
    "datos=[]\n",
    "for i in vt11_final.index:\n",
    "        datos.append(vt11_final.iloc[i,[0,1,2,3,4,5,6,7,8,9,10,11,12,13,14,15,16]].tolist())\n",
    "   "
   ]
  },
  {
   "cell_type": "code",
   "execution_count": 53,
   "metadata": {},
   "outputs": [
    {
     "data": {
      "text/plain": [
       "<pyodbc.Cursor at 0x1a41777b3f0>"
      ]
     },
     "execution_count": 53,
     "metadata": {},
     "output_type": "execute_result"
    }
   ],
   "source": [
    "#cursor.executemany(\"insert into [dbo].[VT11_FINAL]  values (?,?,?,?,?,?,?,?,?,?,?,?,?,?,?,?,?)\",datos)\n",
    "#cnxn.commit()\n",
    "\n",
    "cursor.execute(''' truncate table [dbo].[VT11_tmp_FINAL] ''')"
   ]
  },
  {
   "cell_type": "code",
   "execution_count": 54,
   "metadata": {},
   "outputs": [],
   "source": [
    "for row in datos:\n",
    "    cursor.execute(\"insert into [dbo].[VT11_tmp_FINAL]  values (?,?,?,?,?,?,?,?,?,?,?,?,?,?,?,?,?)\",row)\n",
    "    cnxn.commit()    "
   ]
  },
  {
   "cell_type": "code",
   "execution_count": 55,
   "metadata": {},
   "outputs": [],
   "source": [
    "cursor.execute(''' truncate table [dbo].[VT11_FINAL]  ''')\n",
    "cnxn.commit()  \n",
    "cursor.execute(''' insert into [dbo].[VT11_FINAL]     \n",
    "                    select * from [dbo].[VT11_tmp_FINAL]  ''')\n",
    "cnxn.commit()  \n"
   ]
  }
 ],
 "metadata": {
  "kernelspec": {
   "display_name": "Python 3",
   "language": "python",
   "name": "python3"
  },
  "language_info": {
   "codemirror_mode": {
    "name": "ipython",
    "version": 3
   },
   "file_extension": ".py",
   "mimetype": "text/x-python",
   "name": "python",
   "nbconvert_exporter": "python",
   "pygments_lexer": "ipython3",
   "version": "3.7.3"
  }
 },
 "nbformat": 4,
 "nbformat_minor": 2
}
